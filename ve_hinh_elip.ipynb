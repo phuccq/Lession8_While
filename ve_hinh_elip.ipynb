{
 "cells": [
  {
   "cell_type": "code",
   "execution_count": 1,
   "id": "ba76979a",
   "metadata": {},
   "outputs": [],
   "source": [
    "import turtle\n",
    "t = turtle.Turtle()\n",
    "ban_kinh = 100\n",
    "t.penup()\n",
    "t.goto(-ban_kinh,-ban_kinh/2)\n",
    "t.right(45)\n",
    "t.pendown()\n",
    "i = 0\n",
    "while i < 2:\n",
    "    t.circle(ban_kinh,90)\n",
    "    t.circle(ban_kinh/2,90)\n",
    "    i += 1\n",
    "turtle.done()"
   ]
  },
  {
   "cell_type": "code",
   "execution_count": null,
   "id": "b6d8f1bb",
   "metadata": {},
   "outputs": [],
   "source": []
  }
 ],
 "metadata": {
  "kernelspec": {
   "display_name": "Python 3 (ipykernel)",
   "language": "python",
   "name": "python3"
  },
  "language_info": {
   "codemirror_mode": {
    "name": "ipython",
    "version": 3
   },
   "file_extension": ".py",
   "mimetype": "text/x-python",
   "name": "python",
   "nbconvert_exporter": "python",
   "pygments_lexer": "ipython3",
   "version": "3.9.12"
  }
 },
 "nbformat": 4,
 "nbformat_minor": 5
}
